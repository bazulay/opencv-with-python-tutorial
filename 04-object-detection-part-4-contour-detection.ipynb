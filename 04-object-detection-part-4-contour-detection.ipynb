{
 "cells": [
  {
   "cell_type": "markdown",
   "metadata": {},
   "source": [
    "# Contour Detection \n",
    "\n",
    "* Q - what is a contour ? \n",
    "* A - a curve joining all the continuous points (along the boundary), having same color or intensity\n",
    "\n",
    "* Q - what is it good for ?\n",
    "* A - The contours are a useful tool for shape analysis and object detection and recognition\n"
   ]
  },
  {
   "cell_type": "code",
   "execution_count": 1,
   "metadata": {},
   "outputs": [],
   "source": [
    "import cv2\n",
    "import numpy as np\n",
    "import matplotlib.pyplot as plt\n",
    "%matplotlib inline"
   ]
  },
  {
   "cell_type": "code",
   "execution_count": 141,
   "metadata": {},
   "outputs": [],
   "source": [
    "def load_img(option):\n",
    "    ret_img = np.zeros((440,680), np.uint8)\n",
    "    rect = np.ones((240,480), np.uint8)* 255\n",
    "    ret_img[100:340, 100:580] = rect\n",
    "    rect2 = np.zeros((100,100), np.uint8)\n",
    "    rect3 = np.ones((30,30), np.uint8) * 255\n",
    "    if option > 0:\n",
    "        ret_img[170:270, 290:390] = rect2\n",
    "    if option > 1:\n",
    "        ret_img[140:240, 140:240] = rect2\n",
    "    if option > 2:\n",
    "        ret_img[200:300, 440:540] = rect2\n",
    "    if option > 3:\n",
    "        ret_img[10:40, 10:40] = rect3\n",
    "        ret_img[205:235, 325:355] = rect3\n",
    "    return ret_img"
   ]
  },
  {
   "cell_type": "code",
   "execution_count": 117,
   "metadata": {},
   "outputs": [],
   "source": [
    "img = load_img(0)"
   ]
  },
  {
   "cell_type": "code",
   "execution_count": 118,
   "metadata": {},
   "outputs": [
    {
     "data": {
      "text/plain": [
       "<matplotlib.image.AxesImage at 0x7f476f667630>"
      ]
     },
     "execution_count": 118,
     "metadata": {},
     "output_type": "execute_result"
    },
    {
     "data": {
      "image/png": "[encoded data removed]",
      "text/plain": [
       "<Figure size 432x288 with 1 Axes>"
      ]
     },
     "metadata": {
      "needs_background": "light"
     },
     "output_type": "display_data"
    }
   ],
   "source": [
    "plt.imshow(img,cmap='gray')"
   ]
  },
  {
   "cell_type": "markdown",
   "metadata": {},
   "source": [
    "**findContours**\n",
    "The function retrieves contours from an image\n",
    "\n",
    "Returned values:\n",
    "    * image: same image as first parameter\n",
    "    * contours: a list of contours\n",
    "    * hierarchy: a numpy.ndarray contains the hierarchy of countours (based on the retrieve method)  \n",
    "\n",
    "Parameters:\n",
    "    * image to scan\n",
    "    * retrieve method:\n",
    "      - cv2.RETR_EXTERNAL:Only extracts external contours\n",
    "      - cv2.RETR_CCOMP: Extracts both internal and external contours organized in a two-level hierarchy\n",
    "      - cv2.RETR_TREE: Extracts both internal and external contours organized in a  tree graph\n",
    "      - cv2.RETR_LIST: Extracts all contours without any internal/external relationship\n",
    "    * Contour Approximation Method:\n",
    "      - cv.CHAIN_APPROX_NONE: all the boundary points are stored\n",
    "      - cv.CHAIN_APPROX_SIMPLE: compresses horizontal, vertical, and diagonal segments and leaves only their end points. For example, an up-right rectangular contour is encoded with 4 points\n",
    "      \n",
    "\n",
    "For more details read: <BR>\n",
    "https://docs.opencv.org/3.1.0/d4/d73/tutorial_py_contours_begin.html <BR>\n",
    "https://docs.opencv.org/3.4/d9/d8b/tutorial_py_contours_hierarchy.html"
   ]
  },
  {
   "cell_type": "code",
   "execution_count": 127,
   "metadata": {},
   "outputs": [],
   "source": [
    "img, contours, hierarchy = cv2.findContours(img, cv2.RETR_TREE, cv2.CHAIN_APPROX_SIMPLE)"
   ]
  },
  {
   "cell_type": "code",
   "execution_count": 128,
   "metadata": {},
   "outputs": [
    {
     "data": {
      "text/plain": [
       "list"
      ]
     },
     "execution_count": 128,
     "metadata": {},
     "output_type": "execute_result"
    }
   ],
   "source": [
    "type(contours)"
   ]
  },
  {
   "cell_type": "code",
   "execution_count": 129,
   "metadata": {},
   "outputs": [
    {
     "data": {
      "text/plain": [
       "1"
      ]
     },
     "execution_count": 129,
     "metadata": {},
     "output_type": "execute_result"
    }
   ],
   "source": [
    "len(contours)"
   ]
  },
  {
   "cell_type": "code",
   "execution_count": 130,
   "metadata": {},
   "outputs": [
    {
     "data": {
      "text/plain": [
       "[array([[[100, 100]],\n",
       " \n",
       "        [[100, 339]],\n",
       " \n",
       "        [[579, 339]],\n",
       " \n",
       "        [[579, 100]]], dtype=int32)]"
      ]
     },
     "execution_count": 130,
     "metadata": {},
     "output_type": "execute_result"
    }
   ],
   "source": [
    "contours"
   ]
  },
  {
   "cell_type": "markdown",
   "metadata": {},
   "source": [
    "**findContours**\n",
    "\n",
    "This function draws the contours,  It can also be used to draw any shape provided you have its boundary points\n",
    "\n",
    "Returned value: None\n",
    "\n",
    "Parameters:\n",
    "    * Image to draw on\n",
    "    * Contours list\n",
    "    * Index of contour to draw (To draw all contours, pass -1)\n",
    "    * color (please note we usually draw contours on acolor image)\n",
    "    * thickness (-1 = fill shape)"
   ]
  },
  {
   "cell_type": "code",
   "execution_count": 131,
   "metadata": {},
   "outputs": [],
   "source": [
    "img_color = cv2.cvtColor(img, cv2.COLOR_GRAY2RGB)\n",
    "output = cv2.drawContours(img_color, contours, -1, (255,0,0), 4)"
   ]
  },
  {
   "cell_type": "code",
   "execution_count": 132,
   "metadata": {},
   "outputs": [
    {
     "data": {
      "text/plain": [
       "<matplotlib.image.AxesImage at 0x7f476f511a90>"
      ]
     },
     "execution_count": 132,
     "metadata": {},
     "output_type": "execute_result"
    },
    {
     "data": {
      "image/png": "[encoded data removed]",
      "text/plain": [
       "<Figure size 432x288 with 1 Axes>"
      ]
     },
     "metadata": {
      "needs_background": "light"
     },
     "output_type": "display_data"
    }
   ],
   "source": [
    "plt.imshow(img_color)"
   ]
  },
  {
   "cell_type": "code",
   "execution_count": 125,
   "metadata": {},
   "outputs": [
    {
     "data": {
      "text/plain": [
       "array([[[-1, -1, -1, -1]]], dtype=int32)"
      ]
     },
     "execution_count": 125,
     "metadata": {},
     "output_type": "execute_result"
    }
   ],
   "source": [
    "hierarchy"
   ]
  },
  {
   "cell_type": "code",
   "execution_count": 126,
   "metadata": {},
   "outputs": [
    {
     "data": {
      "text/plain": [
       "<matplotlib.image.AxesImage at 0x7f476f5aea58>"
      ]
     },
     "execution_count": 126,
     "metadata": {},
     "output_type": "execute_result"
    },
    {
     "data": {
      "image/png": "[encoded data removed]",
      "text/plain": [
       "<Figure size 432x288 with 1 Axes>"
      ]
     },
     "metadata": {
      "needs_background": "light"
     },
     "output_type": "display_data"
    }
   ],
   "source": [
    "img1 = load_img(1)\n",
    "plt.imshow(img1,cmap='gray')"
   ]
  },
  {
   "cell_type": "code",
   "execution_count": 133,
   "metadata": {},
   "outputs": [],
   "source": [
    "img1, contours, hierarchy = cv2.findContours(img1, cv2.RETR_TREE, cv2.CHAIN_APPROX_SIMPLE)"
   ]
  },
  {
   "cell_type": "code",
   "execution_count": 134,
   "metadata": {},
   "outputs": [
    {
     "data": {
      "text/plain": [
       "[array([[[100, 100]],\n",
       " \n",
       "        [[100, 339]],\n",
       " \n",
       "        [[579, 339]],\n",
       " \n",
       "        [[579, 100]]], dtype=int32), array([[[289, 170]],\n",
       " \n",
       "        [[290, 169]],\n",
       " \n",
       "        [[389, 169]],\n",
       " \n",
       "        [[390, 170]],\n",
       " \n",
       "        [[390, 269]],\n",
       " \n",
       "        [[389, 270]],\n",
       " \n",
       "        [[290, 270]],\n",
       " \n",
       "        [[289, 269]]], dtype=int32)]"
      ]
     },
     "execution_count": 134,
     "metadata": {},
     "output_type": "execute_result"
    }
   ],
   "source": [
    "contours"
   ]
  },
  {
   "cell_type": "code",
   "execution_count": 135,
   "metadata": {},
   "outputs": [
    {
     "data": {
      "text/plain": [
       "array([[[-1, -1,  1, -1],\n",
       "        [-1, -1, -1,  0]]], dtype=int32)"
      ]
     },
     "execution_count": 135,
     "metadata": {},
     "output_type": "execute_result"
    }
   ],
   "source": [
    "hierarchy"
   ]
  },
  {
   "cell_type": "code",
   "execution_count": 136,
   "metadata": {},
   "outputs": [
    {
     "data": {
      "text/plain": [
       "<matplotlib.image.AxesImage at 0x7f476f47f080>"
      ]
     },
     "execution_count": 136,
     "metadata": {},
     "output_type": "execute_result"
    },
    {
     "data": {
      "image/png": "[encoded data removed]",
      "text/plain": [
       "<Figure size 432x288 with 1 Axes>"
      ]
     },
     "metadata": {
      "needs_background": "light"
     },
     "output_type": "display_data"
    }
   ],
   "source": [
    "img1_color = cv2.cvtColor(img1, cv2.COLOR_GRAY2RGB)\n",
    "output = cv2.drawContours(img1_color, contours, -1, (255,0,0), 4)\n",
    "plt.imshow(img1_color)"
   ]
  },
  {
   "cell_type": "markdown",
   "metadata": {},
   "source": [
    "## More complicated"
   ]
  },
  {
   "cell_type": "code",
   "execution_count": 137,
   "metadata": {},
   "outputs": [
    {
     "data": {
      "text/plain": [
       "<matplotlib.image.AxesImage at 0x7f476f45ada0>"
      ]
     },
     "execution_count": 137,
     "metadata": {},
     "output_type": "execute_result"
    },
    {
     "data": {
      "image/png": "[encoded data removed]",
      "text/plain": [
       "<Figure size 432x288 with 1 Axes>"
      ]
     },
     "metadata": {
      "needs_background": "light"
     },
     "output_type": "display_data"
    }
   ],
   "source": [
    "img3 = load_img(3)\n",
    "plt.imshow(img3,cmap='gray')"
   ]
  },
  {
   "cell_type": "code",
   "execution_count": 138,
   "metadata": {},
   "outputs": [],
   "source": [
    "img3, contours, hierarchy = cv2.findContours(img3, cv2.RETR_TREE, cv2.CHAIN_APPROX_SIMPLE)"
   ]
  },
  {
   "cell_type": "code",
   "execution_count": 139,
   "metadata": {},
   "outputs": [
    {
     "data": {
      "text/plain": [
       "[array([[[100, 100]],\n",
       " \n",
       "        [[100, 339]],\n",
       " \n",
       "        [[579, 339]],\n",
       " \n",
       "        [[579, 100]]], dtype=int32), array([[[439, 200]],\n",
       " \n",
       "        [[440, 199]],\n",
       " \n",
       "        [[539, 199]],\n",
       " \n",
       "        [[540, 200]],\n",
       " \n",
       "        [[540, 299]],\n",
       " \n",
       "        [[539, 300]],\n",
       " \n",
       "        [[440, 300]],\n",
       " \n",
       "        [[439, 299]]], dtype=int32), array([[[289, 170]],\n",
       " \n",
       "        [[290, 169]],\n",
       " \n",
       "        [[389, 169]],\n",
       " \n",
       "        [[390, 170]],\n",
       " \n",
       "        [[390, 269]],\n",
       " \n",
       "        [[389, 270]],\n",
       " \n",
       "        [[290, 270]],\n",
       " \n",
       "        [[289, 269]]], dtype=int32), array([[[139, 140]],\n",
       " \n",
       "        [[140, 139]],\n",
       " \n",
       "        [[239, 139]],\n",
       " \n",
       "        [[240, 140]],\n",
       " \n",
       "        [[240, 239]],\n",
       " \n",
       "        [[239, 240]],\n",
       " \n",
       "        [[140, 240]],\n",
       " \n",
       "        [[139, 239]]], dtype=int32)]"
      ]
     },
     "execution_count": 139,
     "metadata": {},
     "output_type": "execute_result"
    }
   ],
   "source": [
    "contours"
   ]
  },
  {
   "cell_type": "code",
   "execution_count": 140,
   "metadata": {},
   "outputs": [
    {
     "data": {
      "text/plain": [
       "array([[[-1, -1,  1, -1],\n",
       "        [ 2, -1, -1,  0],\n",
       "        [ 3,  1, -1,  0],\n",
       "        [-1,  2, -1,  0]]], dtype=int32)"
      ]
     },
     "execution_count": 140,
     "metadata": {},
     "output_type": "execute_result"
    }
   ],
   "source": [
    "hierarchy"
   ]
  },
  {
   "cell_type": "code",
   "execution_count": 142,
   "metadata": {},
   "outputs": [
    {
     "data": {
      "text/plain": [
       "<matplotlib.image.AxesImage at 0x7f476f3ce240>"
      ]
     },
     "execution_count": 142,
     "metadata": {},
     "output_type": "execute_result"
    },
    {
     "data": {
      "image/png": "[encoded data removed]",
      "text/plain": [
       "<Figure size 432x288 with 1 Axes>"
      ]
     },
     "metadata": {
      "needs_background": "light"
     },
     "output_type": "display_data"
    }
   ],
   "source": [
    "img3_color = cv2.cvtColor(img3, cv2.COLOR_GRAY2RGB)\n",
    "output = cv2.drawContours(img3_color, contours, -1, (255,0,0), 4)\n",
    "plt.imshow(img3_color)"
   ]
  },
  {
   "cell_type": "markdown",
   "metadata": {},
   "source": [
    "## More complicated"
   ]
  },
  {
   "cell_type": "code",
   "execution_count": 144,
   "metadata": {},
   "outputs": [
    {
     "data": {
      "text/plain": [
       "<matplotlib.image.AxesImage at 0x7f476f3a9f98>"
      ]
     },
     "execution_count": 144,
     "metadata": {},
     "output_type": "execute_result"
    },
    {
     "data": {
      "image/png": "[encoded data removed]",
      "text/plain": [
       "<Figure size 432x288 with 1 Axes>"
      ]
     },
     "metadata": {
      "needs_background": "light"
     },
     "output_type": "display_data"
    }
   ],
   "source": [
    "img4 = load_img(4)\n",
    "plt.imshow(img4,cmap='gray')"
   ]
  },
  {
   "cell_type": "code",
   "execution_count": 145,
   "metadata": {},
   "outputs": [],
   "source": [
    "img4, contours, hierarchy = cv2.findContours(img4, cv2.RETR_TREE, cv2.CHAIN_APPROX_SIMPLE)"
   ]
  },
  {
   "cell_type": "code",
   "execution_count": 146,
   "metadata": {},
   "outputs": [
    {
     "data": {
      "text/plain": [
       "[array([[[100, 100]],\n",
       " \n",
       "        [[100, 339]],\n",
       " \n",
       "        [[579, 339]],\n",
       " \n",
       "        [[579, 100]]], dtype=int32), array([[[439, 200]],\n",
       " \n",
       "        [[440, 199]],\n",
       " \n",
       "        [[539, 199]],\n",
       " \n",
       "        [[540, 200]],\n",
       " \n",
       "        [[540, 299]],\n",
       " \n",
       "        [[539, 300]],\n",
       " \n",
       "        [[440, 300]],\n",
       " \n",
       "        [[439, 299]]], dtype=int32), array([[[289, 170]],\n",
       " \n",
       "        [[290, 169]],\n",
       " \n",
       "        [[389, 169]],\n",
       " \n",
       "        [[390, 170]],\n",
       " \n",
       "        [[390, 269]],\n",
       " \n",
       "        [[389, 270]],\n",
       " \n",
       "        [[290, 270]],\n",
       " \n",
       "        [[289, 269]]], dtype=int32), array([[[325, 205]],\n",
       " \n",
       "        [[325, 234]],\n",
       " \n",
       "        [[354, 234]],\n",
       " \n",
       "        [[354, 205]]], dtype=int32), array([[[139, 140]],\n",
       " \n",
       "        [[140, 139]],\n",
       " \n",
       "        [[239, 139]],\n",
       " \n",
       "        [[240, 140]],\n",
       " \n",
       "        [[240, 239]],\n",
       " \n",
       "        [[239, 240]],\n",
       " \n",
       "        [[140, 240]],\n",
       " \n",
       "        [[139, 239]]], dtype=int32), array([[[10, 10]],\n",
       " \n",
       "        [[10, 39]],\n",
       " \n",
       "        [[39, 39]],\n",
       " \n",
       "        [[39, 10]]], dtype=int32)]"
      ]
     },
     "execution_count": 146,
     "metadata": {},
     "output_type": "execute_result"
    }
   ],
   "source": [
    "contours"
   ]
  },
  {
   "cell_type": "code",
   "execution_count": 149,
   "metadata": {},
   "outputs": [
    {
     "data": {
      "text/plain": [
       "array([[[ 5, -1,  1, -1],\n",
       "        [ 2, -1, -1,  0],\n",
       "        [ 4,  1,  3,  0],\n",
       "        [-1, -1, -1,  2],\n",
       "        [-1,  2, -1,  0],\n",
       "        [-1,  0, -1, -1]]], dtype=int32)"
      ]
     },
     "execution_count": 149,
     "metadata": {},
     "output_type": "execute_result"
    }
   ],
   "source": [
    "hierarchy"
   ]
  },
  {
   "cell_type": "code",
   "execution_count": 148,
   "metadata": {},
   "outputs": [
    {
     "data": {
      "text/plain": [
       "<matplotlib.image.AxesImage at 0x7f476f321400>"
      ]
     },
     "execution_count": 148,
     "metadata": {},
     "output_type": "execute_result"
    },
    {
     "data": {
      "image/png": "[encoded data removed]",
      "text/plain": [
       "<Figure size 432x288 with 1 Axes>"
      ]
     },
     "metadata": {
      "needs_background": "light"
     },
     "output_type": "display_data"
    }
   ],
   "source": [
    "img4_color = cv2.cvtColor(img4, cv2.COLOR_GRAY2RGB)\n",
    "output = cv2.drawContours(img4_color, contours, -1, (255,0,0), 4)\n",
    "plt.imshow(img4_color)"
   ]
  },
  {
   "cell_type": "code",
   "execution_count": null,
   "metadata": {},
   "outputs": [],
   "source": []
  },
  {
   "cell_type": "markdown",
   "metadata": {},
   "source": [
    "## Now lets examin much more complicated example"
   ]
  },
  {
   "cell_type": "code",
   "execution_count": 150,
   "metadata": {},
   "outputs": [],
   "source": [
    "dice = cv2.imread(\"images/dice_top_view.jpg\", cv2.IMREAD_GRAYSCALE)"
   ]
  },
  {
   "cell_type": "code",
   "execution_count": 151,
   "metadata": {},
   "outputs": [
    {
     "data": {
      "text/plain": [
       "(439, 680)"
      ]
     },
     "execution_count": 151,
     "metadata": {},
     "output_type": "execute_result"
    }
   ],
   "source": [
    "dice.shape"
   ]
  },
  {
   "cell_type": "code",
   "execution_count": 152,
   "metadata": {},
   "outputs": [
    {
     "data": {
      "text/plain": [
       "<matplotlib.image.AxesImage at 0x7f476f2831d0>"
      ]
     },
     "execution_count": 152,
     "metadata": {},
     "output_type": "execute_result"
    },
    {
     "data": {
      "image/png": "[encoded data removed]",
      "text/plain": [
       "<Figure size 432x288 with 1 Axes>"
      ]
     },
     "metadata": {
      "needs_background": "light"
     },
     "output_type": "display_data"
    }
   ],
   "source": [
    "plt.imshow(dice,cmap='gray')"
   ]
  },
  {
   "cell_type": "code",
   "execution_count": 153,
   "metadata": {},
   "outputs": [],
   "source": [
    "dice2, contours, hierarchy = cv2.findContours(dice, cv2.RETR_TREE, cv2.CHAIN_APPROX_SIMPLE)"
   ]
  },
  {
   "cell_type": "code",
   "execution_count": 154,
   "metadata": {},
   "outputs": [
    {
     "data": {
      "text/plain": [
       "array([[[   1,   -1,   -1,   -1],\n",
       "        [   2,    0,   -1,   -1],\n",
       "        [   3,    1,   -1,   -1],\n",
       "        ...,\n",
       "        [2002, 2000,   -1,   -1],\n",
       "        [2003, 2001,   -1,   -1],\n",
       "        [  -1, 2002,   -1,   -1]]], dtype=int32)"
      ]
     },
     "execution_count": 154,
     "metadata": {},
     "output_type": "execute_result"
    }
   ],
   "source": [
    "hierarchy"
   ]
  },
  {
   "cell_type": "code",
   "execution_count": 155,
   "metadata": {},
   "outputs": [],
   "source": [
    "dice_color = cv2.cvtColor(dice, cv2.COLOR_GRAY2RGB)\n",
    "output = cv2.drawContours(dice_color, contours, -1, (255,0,0), 2)"
   ]
  },
  {
   "cell_type": "code",
   "execution_count": 156,
   "metadata": {},
   "outputs": [
    {
     "data": {
      "text/plain": [
       "<matplotlib.image.AxesImage at 0x7f476f2131d0>"
      ]
     },
     "execution_count": 156,
     "metadata": {},
     "output_type": "execute_result"
    },
    {
     "data": {
      "image/png": "[encoded data removed]",
      "text/plain": [
       "<Figure size 432x288 with 1 Axes>"
      ]
     },
     "metadata": {
      "needs_background": "light"
     },
     "output_type": "display_data"
    }
   ],
   "source": [
    "plt.imshow(dice_color)"
   ]
  },
  {
   "cell_type": "code",
   "execution_count": null,
   "metadata": {},
   "outputs": [],
   "source": []
  }
 ],
 "metadata": {
  "kernelspec": {
   "display_name": "Python 3",
   "language": "python",
   "name": "python3"
  },
  "language_info": {
   "codemirror_mode": {
    "name": "ipython",
    "version": 3
   },
   "file_extension": ".py",
   "mimetype": "text/x-python",
   "name": "python",
   "nbconvert_exporter": "python",
   "pygments_lexer": "ipython3",
   "version": "3.6.6"
  }
 },
 "nbformat": 4,
 "nbformat_minor": 2
}
