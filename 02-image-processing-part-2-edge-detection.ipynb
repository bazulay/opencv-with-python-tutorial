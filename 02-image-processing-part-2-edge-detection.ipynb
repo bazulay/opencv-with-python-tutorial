{
 "cells": [
  {
   "cell_type": "code",
   "execution_count": 1,
   "metadata": {},
   "outputs": [],
   "source": [
    "import cv2\n",
    "import numpy as np\n",
    "import matplotlib.pyplot as plt\n",
    "%matplotlib inline"
   ]
  },
  {
   "cell_type": "code",
   "execution_count": 53,
   "metadata": {},
   "outputs": [],
   "source": [
    "def load_img(option=0):\n",
    "    ret_img = np.zeros((12,12), np.uint8)\n",
    "    white_q  = np.ones((6,6), np.uint8) * 255\n",
    "    if option == 0: #white on the left\n",
    "        ret_img[0:6, 0:6]  = white_q\n",
    "        ret_img[6:12, 0:6] = white_q\n",
    "    elif option == 1: #white on the right\n",
    "        ret_img[0:6, 6:12]  = white_q\n",
    "        ret_img[6:12, 6:12] = white_q\n",
    "    elif option == 2: #white on the top\n",
    "        ret_img[0:6, 0:6]  = white_q\n",
    "        ret_img[0:6, 6:12] = white_q\n",
    "    elif option == 3: #white on the bottom\n",
    "        ret_img [6:12, 0:6]  = white_q\n",
    "        ret_img [6:12, 6:12] = white_q\n",
    "    elif option == 4:#chess board like\n",
    "        ret_img [0:6, 0:6]  = white_q\n",
    "        ret_img [6:12, 6:12]= white_q\n",
    "    return ret_img"
   ]
  },
  {
   "cell_type": "code",
   "execution_count": 16,
   "metadata": {},
   "outputs": [],
   "source": [
    "def display_img(img):\n",
    "    fig = plt.figure()\n",
    "    ax = fig.add_subplot(111)\n",
    "    ax.imshow(img,cmap='gray')"
   ]
  },
  {
   "cell_type": "markdown",
   "metadata": {},
   "source": [
    "### The Sobel Feldman Edge Detector\n",
    "This edge detector is a gradient based method. It works with first order derivatives. It calculates the first derivatives of the image separately for the X and Y axes. The derivatives are only approximations (because the images are not continuous). To approximate them, the following kernels are used for convolution:<BR>\n",
    "\n",
    "![title](images/sobel-kernels1.jpg)\n",
    "<BR>"
   ]
  },
  {
   "cell_type": "code",
   "execution_count": 14,
   "metadata": {},
   "outputs": [],
   "source": [
    "img = load_img()"
   ]
  },
  {
   "cell_type": "code",
   "execution_count": 15,
   "metadata": {},
   "outputs": [
    {
     "data": {
      "text/plain": [
       "array([[255, 255, 255, 255, 255, 255,   0,   0,   0,   0,   0,   0],\n",
       "       [255, 255, 255, 255, 255, 255,   0,   0,   0,   0,   0,   0],\n",
       "       [255, 255, 255, 255, 255, 255,   0,   0,   0,   0,   0,   0],\n",
       "       [255, 255, 255, 255, 255, 255,   0,   0,   0,   0,   0,   0],\n",
       "       [255, 255, 255, 255, 255, 255,   0,   0,   0,   0,   0,   0],\n",
       "       [255, 255, 255, 255, 255, 255,   0,   0,   0,   0,   0,   0],\n",
       "       [255, 255, 255, 255, 255, 255,   0,   0,   0,   0,   0,   0],\n",
       "       [255, 255, 255, 255, 255, 255,   0,   0,   0,   0,   0,   0],\n",
       "       [255, 255, 255, 255, 255, 255,   0,   0,   0,   0,   0,   0],\n",
       "       [255, 255, 255, 255, 255, 255,   0,   0,   0,   0,   0,   0],\n",
       "       [255, 255, 255, 255, 255, 255,   0,   0,   0,   0,   0,   0],\n",
       "       [255, 255, 255, 255, 255, 255,   0,   0,   0,   0,   0,   0]],\n",
       "      dtype=uint8)"
      ]
     },
     "execution_count": 15,
     "metadata": {},
     "output_type": "execute_result"
    }
   ],
   "source": [
    "img"
   ]
  },
  {
   "cell_type": "code",
   "execution_count": 54,
   "metadata": {},
   "outputs": [
    {
     "data": {
      "image/png": "[encoded data removed]",
      "text/plain": [
       "<Figure size 432x288 with 1 Axes>"
      ]
     },
     "metadata": {
      "needs_background": "light"
     },
     "output_type": "display_data"
    }
   ],
   "source": [
    "display_img(img)"
   ]
  },
  {
   "cell_type": "code",
   "execution_count": 59,
   "metadata": {},
   "outputs": [],
   "source": [
    "sobelx = cv2.Sobel(img,cv2.CV_64F,1,0,ksize=3)"
   ]
  },
  {
   "cell_type": "code",
   "execution_count": 60,
   "metadata": {},
   "outputs": [
    {
     "data": {
      "text/plain": [
       "array([[    0.,     0.,     0.,     0.,     0., -1020., -1020.,     0.,\n",
       "            0.,     0.,     0.,     0.],\n",
       "       [    0.,     0.,     0.,     0.,     0., -1020., -1020.,     0.,\n",
       "            0.,     0.,     0.,     0.],\n",
       "       [    0.,     0.,     0.,     0.,     0., -1020., -1020.,     0.,\n",
       "            0.,     0.,     0.,     0.],\n",
       "       [    0.,     0.,     0.,     0.,     0., -1020., -1020.,     0.,\n",
       "            0.,     0.,     0.,     0.],\n",
       "       [    0.,     0.,     0.,     0.,     0., -1020., -1020.,     0.,\n",
       "            0.,     0.,     0.,     0.],\n",
       "       [    0.,     0.,     0.,     0.,     0., -1020., -1020.,     0.,\n",
       "            0.,     0.,     0.,     0.],\n",
       "       [    0.,     0.,     0.,     0.,     0., -1020., -1020.,     0.,\n",
       "            0.,     0.,     0.,     0.],\n",
       "       [    0.,     0.,     0.,     0.,     0., -1020., -1020.,     0.,\n",
       "            0.,     0.,     0.,     0.],\n",
       "       [    0.,     0.,     0.,     0.,     0., -1020., -1020.,     0.,\n",
       "            0.,     0.,     0.,     0.],\n",
       "       [    0.,     0.,     0.,     0.,     0., -1020., -1020.,     0.,\n",
       "            0.,     0.,     0.,     0.],\n",
       "       [    0.,     0.,     0.,     0.,     0., -1020., -1020.,     0.,\n",
       "            0.,     0.,     0.,     0.],\n",
       "       [    0.,     0.,     0.,     0.,     0., -1020., -1020.,     0.,\n",
       "            0.,     0.,     0.,     0.]])"
      ]
     },
     "execution_count": 60,
     "metadata": {},
     "output_type": "execute_result"
    }
   ],
   "source": [
    "sobelx"
   ]
  },
  {
   "cell_type": "code",
   "execution_count": 61,
   "metadata": {},
   "outputs": [
    {
     "data": {
      "image/png": "[encoded data removed]",
      "text/plain": [
       "<Figure size 432x288 with 1 Axes>"
      ]
     },
     "metadata": {
      "needs_background": "light"
     },
     "output_type": "display_data"
    }
   ],
   "source": [
    "display_img(sobelx)"
   ]
  },
  {
   "cell_type": "code",
   "execution_count": 21,
   "metadata": {},
   "outputs": [],
   "source": [
    "sobely = cv2.Sobel(img,cv2.CV_64F,0,1,ksize=3)"
   ]
  },
  {
   "cell_type": "code",
   "execution_count": 22,
   "metadata": {},
   "outputs": [
    {
     "data": {
      "text/plain": [
       "array([[0., 0., 0., 0., 0., 0., 0., 0., 0., 0., 0., 0.],\n",
       "       [0., 0., 0., 0., 0., 0., 0., 0., 0., 0., 0., 0.],\n",
       "       [0., 0., 0., 0., 0., 0., 0., 0., 0., 0., 0., 0.],\n",
       "       [0., 0., 0., 0., 0., 0., 0., 0., 0., 0., 0., 0.],\n",
       "       [0., 0., 0., 0., 0., 0., 0., 0., 0., 0., 0., 0.],\n",
       "       [0., 0., 0., 0., 0., 0., 0., 0., 0., 0., 0., 0.],\n",
       "       [0., 0., 0., 0., 0., 0., 0., 0., 0., 0., 0., 0.],\n",
       "       [0., 0., 0., 0., 0., 0., 0., 0., 0., 0., 0., 0.],\n",
       "       [0., 0., 0., 0., 0., 0., 0., 0., 0., 0., 0., 0.],\n",
       "       [0., 0., 0., 0., 0., 0., 0., 0., 0., 0., 0., 0.],\n",
       "       [0., 0., 0., 0., 0., 0., 0., 0., 0., 0., 0., 0.],\n",
       "       [0., 0., 0., 0., 0., 0., 0., 0., 0., 0., 0., 0.]])"
      ]
     },
     "execution_count": 22,
     "metadata": {},
     "output_type": "execute_result"
    }
   ],
   "source": [
    "sobely"
   ]
  },
  {
   "cell_type": "markdown",
   "metadata": {},
   "source": [
    "### what happens when the image is in the other direction (white on the right side) ?"
   ]
  },
  {
   "cell_type": "code",
   "execution_count": 62,
   "metadata": {},
   "outputs": [],
   "source": [
    "img1 = load_img(1)"
   ]
  },
  {
   "cell_type": "code",
   "execution_count": 63,
   "metadata": {},
   "outputs": [
    {
     "data": {
      "text/plain": [
       "array([[  0,   0,   0,   0,   0,   0, 255, 255, 255, 255, 255, 255],\n",
       "       [  0,   0,   0,   0,   0,   0, 255, 255, 255, 255, 255, 255],\n",
       "       [  0,   0,   0,   0,   0,   0, 255, 255, 255, 255, 255, 255],\n",
       "       [  0,   0,   0,   0,   0,   0, 255, 255, 255, 255, 255, 255],\n",
       "       [  0,   0,   0,   0,   0,   0, 255, 255, 255, 255, 255, 255],\n",
       "       [  0,   0,   0,   0,   0,   0, 255, 255, 255, 255, 255, 255],\n",
       "       [  0,   0,   0,   0,   0,   0, 255, 255, 255, 255, 255, 255],\n",
       "       [  0,   0,   0,   0,   0,   0, 255, 255, 255, 255, 255, 255],\n",
       "       [  0,   0,   0,   0,   0,   0, 255, 255, 255, 255, 255, 255],\n",
       "       [  0,   0,   0,   0,   0,   0, 255, 255, 255, 255, 255, 255],\n",
       "       [  0,   0,   0,   0,   0,   0, 255, 255, 255, 255, 255, 255],\n",
       "       [  0,   0,   0,   0,   0,   0, 255, 255, 255, 255, 255, 255]],\n",
       "      dtype=uint8)"
      ]
     },
     "execution_count": 63,
     "metadata": {},
     "output_type": "execute_result"
    }
   ],
   "source": [
    "img1"
   ]
  },
  {
   "cell_type": "code",
   "execution_count": 31,
   "metadata": {},
   "outputs": [
    {
     "data": {
      "image/png": "[encoded data removed]",
      "text/plain": [
       "<Figure size 432x288 with 1 Axes>"
      ]
     },
     "metadata": {
      "needs_background": "light"
     },
     "output_type": "display_data"
    }
   ],
   "source": [
    "display_img(img1)"
   ]
  },
  {
   "cell_type": "code",
   "execution_count": 32,
   "metadata": {},
   "outputs": [],
   "source": [
    "sobelx = cv2.Sobel(img1,cv2.CV_64F,1,0,ksize=3)"
   ]
  },
  {
   "cell_type": "code",
   "execution_count": 33,
   "metadata": {},
   "outputs": [
    {
     "data": {
      "text/plain": [
       "array([[   0.,    0.,    0.,    0.,    0., 1020., 1020.,    0.,    0.,\n",
       "           0.,    0.,    0.],\n",
       "       [   0.,    0.,    0.,    0.,    0., 1020., 1020.,    0.,    0.,\n",
       "           0.,    0.,    0.],\n",
       "       [   0.,    0.,    0.,    0.,    0., 1020., 1020.,    0.,    0.,\n",
       "           0.,    0.,    0.],\n",
       "       [   0.,    0.,    0.,    0.,    0., 1020., 1020.,    0.,    0.,\n",
       "           0.,    0.,    0.],\n",
       "       [   0.,    0.,    0.,    0.,    0., 1020., 1020.,    0.,    0.,\n",
       "           0.,    0.,    0.],\n",
       "       [   0.,    0.,    0.,    0.,    0., 1020., 1020.,    0.,    0.,\n",
       "           0.,    0.,    0.],\n",
       "       [   0.,    0.,    0.,    0.,    0., 1020., 1020.,    0.,    0.,\n",
       "           0.,    0.,    0.],\n",
       "       [   0.,    0.,    0.,    0.,    0., 1020., 1020.,    0.,    0.,\n",
       "           0.,    0.,    0.],\n",
       "       [   0.,    0.,    0.,    0.,    0., 1020., 1020.,    0.,    0.,\n",
       "           0.,    0.,    0.],\n",
       "       [   0.,    0.,    0.,    0.,    0., 1020., 1020.,    0.,    0.,\n",
       "           0.,    0.,    0.],\n",
       "       [   0.,    0.,    0.,    0.,    0., 1020., 1020.,    0.,    0.,\n",
       "           0.,    0.,    0.],\n",
       "       [   0.,    0.,    0.,    0.,    0., 1020., 1020.,    0.,    0.,\n",
       "           0.,    0.,    0.]])"
      ]
     },
     "execution_count": 33,
     "metadata": {},
     "output_type": "execute_result"
    }
   ],
   "source": [
    "sobelx"
   ]
  },
  {
   "cell_type": "code",
   "execution_count": 35,
   "metadata": {},
   "outputs": [
    {
     "data": {
      "image/png": "[encoded data removed]",
      "text/plain": [
       "<Figure size 432x288 with 1 Axes>"
      ]
     },
     "metadata": {
      "needs_background": "light"
     },
     "output_type": "display_data"
    }
   ],
   "source": [
    "display_img(sobelx)"
   ]
  },
  {
   "cell_type": "markdown",
   "metadata": {},
   "source": [
    "### Horizontal sobel"
   ]
  },
  {
   "cell_type": "code",
   "execution_count": 64,
   "metadata": {},
   "outputs": [],
   "source": [
    "img2 = load_img(2)"
   ]
  },
  {
   "cell_type": "code",
   "execution_count": 65,
   "metadata": {},
   "outputs": [
    {
     "data": {
      "text/plain": [
       "array([[255, 255, 255, 255, 255, 255, 255, 255, 255, 255, 255, 255],\n",
       "       [255, 255, 255, 255, 255, 255, 255, 255, 255, 255, 255, 255],\n",
       "       [255, 255, 255, 255, 255, 255, 255, 255, 255, 255, 255, 255],\n",
       "       [255, 255, 255, 255, 255, 255, 255, 255, 255, 255, 255, 255],\n",
       "       [255, 255, 255, 255, 255, 255, 255, 255, 255, 255, 255, 255],\n",
       "       [255, 255, 255, 255, 255, 255, 255, 255, 255, 255, 255, 255],\n",
       "       [  0,   0,   0,   0,   0,   0,   0,   0,   0,   0,   0,   0],\n",
       "       [  0,   0,   0,   0,   0,   0,   0,   0,   0,   0,   0,   0],\n",
       "       [  0,   0,   0,   0,   0,   0,   0,   0,   0,   0,   0,   0],\n",
       "       [  0,   0,   0,   0,   0,   0,   0,   0,   0,   0,   0,   0],\n",
       "       [  0,   0,   0,   0,   0,   0,   0,   0,   0,   0,   0,   0],\n",
       "       [  0,   0,   0,   0,   0,   0,   0,   0,   0,   0,   0,   0]],\n",
       "      dtype=uint8)"
      ]
     },
     "execution_count": 65,
     "metadata": {},
     "output_type": "execute_result"
    }
   ],
   "source": [
    "img2"
   ]
  },
  {
   "cell_type": "code",
   "execution_count": 38,
   "metadata": {},
   "outputs": [
    {
     "data": {
      "image/png": "[encoded data removed]",
      "text/plain": [
       "<Figure size 432x288 with 1 Axes>"
      ]
     },
     "metadata": {
      "needs_background": "light"
     },
     "output_type": "display_data"
    }
   ],
   "source": []
  },
  {
   "cell_type": "code",
   "execution_count": 39,
   "metadata": {},
   "outputs": [],
   "source": [
    "sobely = cv2.Sobel(img2,cv2.CV_64F,0,1,ksize=3)"
   ]
  },
  {
   "cell_type": "code",
   "execution_count": 66,
   "metadata": {},
   "outputs": [
    {
     "data": {
      "text/plain": [
       "array([[    0.,     0.,     0.,     0.,     0.,     0.,     0.,     0.,\n",
       "            0.,     0.,     0.,     0.],\n",
       "       [    0.,     0.,     0.,     0.,     0.,     0.,     0.,     0.,\n",
       "            0.,     0.,     0.,     0.],\n",
       "       [    0.,     0.,     0.,     0.,     0.,     0.,     0.,     0.,\n",
       "            0.,     0.,     0.,     0.],\n",
       "       [    0.,     0.,     0.,     0.,     0.,     0.,     0.,     0.,\n",
       "            0.,     0.,     0.,     0.],\n",
       "       [    0.,     0.,     0.,     0.,     0.,     0.,     0.,     0.,\n",
       "            0.,     0.,     0.,     0.],\n",
       "       [-1020., -1020., -1020., -1020., -1020.,  -510.,   510.,  1020.,\n",
       "         1020.,  1020.,  1020.,  1020.],\n",
       "       [-1020., -1020., -1020., -1020., -1020.,  -510.,   510.,  1020.,\n",
       "         1020.,  1020.,  1020.,  1020.],\n",
       "       [    0.,     0.,     0.,     0.,     0.,     0.,     0.,     0.,\n",
       "            0.,     0.,     0.,     0.],\n",
       "       [    0.,     0.,     0.,     0.,     0.,     0.,     0.,     0.,\n",
       "            0.,     0.,     0.,     0.],\n",
       "       [    0.,     0.,     0.,     0.,     0.,     0.,     0.,     0.,\n",
       "            0.,     0.,     0.,     0.],\n",
       "       [    0.,     0.,     0.,     0.,     0.,     0.,     0.,     0.,\n",
       "            0.,     0.,     0.,     0.],\n",
       "       [    0.,     0.,     0.,     0.,     0.,     0.,     0.,     0.,\n",
       "            0.,     0.,     0.,     0.]])"
      ]
     },
     "execution_count": 66,
     "metadata": {},
     "output_type": "execute_result"
    }
   ],
   "source": [
    "sobely"
   ]
  },
  {
   "cell_type": "code",
   "execution_count": 40,
   "metadata": {},
   "outputs": [
    {
     "data": {
      "image/png": "[encoded data removed]",
      "text/plain": [
       "<Figure size 432x288 with 1 Axes>"
      ]
     },
     "metadata": {
      "needs_background": "light"
     },
     "output_type": "display_data"
    }
   ],
   "source": [
    "display_img(sobely)"
   ]
  },
  {
   "cell_type": "markdown",
   "metadata": {},
   "source": [
    "### more complicated image"
   ]
  },
  {
   "cell_type": "code",
   "execution_count": 70,
   "metadata": {},
   "outputs": [],
   "source": [
    "img4 = load_img(4)"
   ]
  },
  {
   "cell_type": "code",
   "execution_count": 71,
   "metadata": {},
   "outputs": [
    {
     "data": {
      "image/png": "[encoded data removed]",
      "text/plain": [
       "<Figure size 432x288 with 1 Axes>"
      ]
     },
     "metadata": {
      "needs_background": "light"
     },
     "output_type": "display_data"
    }
   ],
   "source": [
    "display_img(img4)"
   ]
  },
  {
   "cell_type": "code",
   "execution_count": 72,
   "metadata": {},
   "outputs": [],
   "source": [
    "sobelx = cv2.Sobel(img4,cv2.CV_64F,1,0,ksize=3)\n",
    "sobely = cv2.Sobel(img4,cv2.CV_64F,0,1,ksize=3)"
   ]
  },
  {
   "cell_type": "code",
   "execution_count": 73,
   "metadata": {},
   "outputs": [
    {
     "data": {
      "text/plain": [
       "array([[    0.,     0.,     0.,     0.,     0., -1020., -1020.,     0.,\n",
       "            0.,     0.,     0.,     0.],\n",
       "       [    0.,     0.,     0.,     0.,     0., -1020., -1020.,     0.,\n",
       "            0.,     0.,     0.,     0.],\n",
       "       [    0.,     0.,     0.,     0.,     0., -1020., -1020.,     0.,\n",
       "            0.,     0.,     0.,     0.],\n",
       "       [    0.,     0.,     0.,     0.,     0., -1020., -1020.,     0.,\n",
       "            0.,     0.,     0.,     0.],\n",
       "       [    0.,     0.,     0.,     0.,     0., -1020., -1020.,     0.,\n",
       "            0.,     0.,     0.,     0.],\n",
       "       [    0.,     0.,     0.,     0.,     0.,  -510.,  -510.,     0.,\n",
       "            0.,     0.,     0.,     0.],\n",
       "       [    0.,     0.,     0.,     0.,     0.,   510.,   510.,     0.,\n",
       "            0.,     0.,     0.,     0.],\n",
       "       [    0.,     0.,     0.,     0.,     0.,  1020.,  1020.,     0.,\n",
       "            0.,     0.,     0.,     0.],\n",
       "       [    0.,     0.,     0.,     0.,     0.,  1020.,  1020.,     0.,\n",
       "            0.,     0.,     0.,     0.],\n",
       "       [    0.,     0.,     0.,     0.,     0.,  1020.,  1020.,     0.,\n",
       "            0.,     0.,     0.,     0.],\n",
       "       [    0.,     0.,     0.,     0.,     0.,  1020.,  1020.,     0.,\n",
       "            0.,     0.,     0.,     0.],\n",
       "       [    0.,     0.,     0.,     0.,     0.,  1020.,  1020.,     0.,\n",
       "            0.,     0.,     0.,     0.]])"
      ]
     },
     "execution_count": 73,
     "metadata": {},
     "output_type": "execute_result"
    }
   ],
   "source": [
    "sobelx"
   ]
  },
  {
   "cell_type": "code",
   "execution_count": 44,
   "metadata": {},
   "outputs": [
    {
     "data": {
      "image/png": "[encoded data removed]",
      "text/plain": [
       "<Figure size 432x288 with 1 Axes>"
      ]
     },
     "metadata": {
      "needs_background": "light"
     },
     "output_type": "display_data"
    }
   ],
   "source": [
    "display_img(sobelx)"
   ]
  },
  {
   "cell_type": "code",
   "execution_count": 45,
   "metadata": {},
   "outputs": [
    {
     "data": {
      "image/png": "[encoded data removed]",
      "text/plain": [
       "<Figure size 432x288 with 1 Axes>"
      ]
     },
     "metadata": {
      "needs_background": "light"
     },
     "output_type": "display_data"
    }
   ],
   "source": [
    "display_img(sobely)"
   ]
  },
  {
   "cell_type": "code",
   "execution_count": 75,
   "metadata": {},
   "outputs": [
    {
     "data": {
      "text/plain": [
       "array([[   0.,    0.,    0.,    0.,    0., -510., -510.,    0.,    0.,\n",
       "           0.,    0.,    0.],\n",
       "       [   0.,    0.,    0.,    0.,    0., -510., -510.,    0.,    0.,\n",
       "           0.,    0.,    0.],\n",
       "       [   0.,    0.,    0.,    0.,    0., -510., -510.,    0.,    0.,\n",
       "           0.,    0.,    0.],\n",
       "       [   0.,    0.,    0.,    0.,    0., -510., -510.,    0.,    0.,\n",
       "           0.,    0.,    0.],\n",
       "       [   0.,    0.,    0.,    0.,    0., -510., -510.,    0.,    0.,\n",
       "           0.,    0.,    0.],\n",
       "       [-510., -510., -510., -510., -510., -510.,    0.,  510.,  510.,\n",
       "         510.,  510.,  510.],\n",
       "       [-510., -510., -510., -510., -510.,    0.,  510.,  510.,  510.,\n",
       "         510.,  510.,  510.],\n",
       "       [   0.,    0.,    0.,    0.,    0.,  510.,  510.,    0.,    0.,\n",
       "           0.,    0.,    0.],\n",
       "       [   0.,    0.,    0.,    0.,    0.,  510.,  510.,    0.,    0.,\n",
       "           0.,    0.,    0.],\n",
       "       [   0.,    0.,    0.,    0.,    0.,  510.,  510.,    0.,    0.,\n",
       "           0.,    0.,    0.],\n",
       "       [   0.,    0.,    0.,    0.,    0.,  510.,  510.,    0.,    0.,\n",
       "           0.,    0.,    0.],\n",
       "       [   0.,    0.,    0.,    0.,    0.,  510.,  510.,    0.,    0.,\n",
       "           0.,    0.,    0.]])"
      ]
     },
     "execution_count": 75,
     "metadata": {},
     "output_type": "execute_result"
    }
   ],
   "source": [
    "blended = cv2.addWeighted(src1=sobelx,alpha=0.5,src2=sobely,beta=0.5,gamma=0)\n",
    "blended"
   ]
  },
  {
   "cell_type": "code",
   "execution_count": 74,
   "metadata": {},
   "outputs": [
    {
     "data": {
      "image/png": "[encoded data removed]",
      "text/plain": [
       "<Figure size 432x288 with 1 Axes>"
      ]
     },
     "metadata": {
      "needs_background": "light"
     },
     "output_type": "display_data"
    }
   ],
   "source": [
    "\n",
    "display_img(blended)"
   ]
  },
  {
   "cell_type": "markdown",
   "metadata": {},
   "source": [
    "## The Laplacian edge detection\n",
    "Unlike the Sobel edge detector, the Laplacian edge detector uses only one kernel. It calculates second order derivatives in a single pass. Here's the kernel used for it:<BR>\n",
    "![title](images/conv-laplacian.jpg)\n",
    "<BR>\n",
    "The laplacian edge detector is extremely sensitive to noise. Usually, you'll want to reduce noise - maybe using the Gaussian blur"
   ]
  },
  {
   "cell_type": "code",
   "execution_count": 50,
   "metadata": {},
   "outputs": [
    {
     "data": {
      "image/png": "[encoded data removed]",
      "text/plain": [
       "<Figure size 432x288 with 1 Axes>"
      ]
     },
     "metadata": {
      "needs_background": "light"
     },
     "output_type": "display_data"
    }
   ],
   "source": [
    "laplacian = cv2.Laplacian(img4, cv2.CV_64F)\n",
    "display_img(laplacian)"
   ]
  },
  {
   "cell_type": "markdown",
   "metadata": {},
   "source": [
    "### Canny edge detector\n",
    "\n",
    "The Canny edge detector was developed way back in 1986 by John F. Canny. And it’s still widely used today was one of the default edge detectors in image processing.\n",
    "\n",
    "The Canny edge detection algorithm can be broken down into 5 steps:\n",
    "<BR>\n",
    "Step 1: Smooth the image using a Gaussian filter to remove high frequency noise.<BR>\n",
    "Step 2: Compute the gradient intensity representations of the image.<BR>\n",
    "Step 3: Apply non-maximum suppression to remove “false” responses to to edge detection.<BR>\n",
    "Step 4: Apply thresholding using a lower and upper boundary on the gradient values.<BR>\n",
    "Step 5: Track edges using hysteresis by suppressing weak edges that are not connected to strong edges.<BR>\n",
    "<BR>\n",
    "If you’re familiar with the OpenCV implementation of the Canny edge detector you’ll know that the function signature looks like this:\n",
    "<BR>\n",
    "    cv2.canny(image, lower, upper)<BR>\n",
    "Where image  is the image that we want to detect edges in; and lower  and upper  are our integer thresholds for Step 4, respectively."
   ]
  },
  {
   "cell_type": "code",
   "execution_count": 52,
   "metadata": {},
   "outputs": [
    {
     "data": {
      "image/png": "[encoded data removed]",
      "text/plain": [
       "<Figure size 432x288 with 1 Axes>"
      ]
     },
     "metadata": {
      "needs_background": "light"
     },
     "output_type": "display_data"
    }
   ],
   "source": [
    "canny = cv2.Canny(img4, 50,100)\n",
    "display_img(canny)"
   ]
  },
  {
   "cell_type": "code",
   "execution_count": null,
   "metadata": {},
   "outputs": [],
   "source": []
  }
 ],
 "metadata": {
  "kernelspec": {
   "display_name": "Python 3",
   "language": "python",
   "name": "python3"
  },
  "language_info": {
   "codemirror_mode": {
    "name": "ipython",
    "version": 3
   },
   "file_extension": ".py",
   "mimetype": "text/x-python",
   "name": "python",
   "nbconvert_exporter": "python",
   "pygments_lexer": "ipython3",
   "version": "3.6.6"
  }
 },
 "nbformat": 4,
 "nbformat_minor": 2
}
