{
 "cells": [
  {
   "cell_type": "markdown",
   "metadata": {},
   "source": [
    "# Working with images - part II\n",
    "\n",
    "### Region Of Interest (image) - ROI the numpy way\n",
    "\n",
    "Sometimes, we will have to play with certain region of an Images (e.g. isolation of face after face detection)\n",
    "\n",
    "Look at this image"
   ]
  },
  {
   "cell_type": "markdown",
   "metadata": {},
   "source": [
    "![title](images/smiley.jpg)"
   ]
  },
  {
   "cell_type": "code",
   "execution_count": 1,
   "metadata": {},
   "outputs": [],
   "source": [
    "import cv2\n",
    "import numpy as np\n",
    "img = cv2.imread('images/smiley.jpg')\n",
    "cv2.imshow('smiley', img)\n",
    "cv2.waitKey(0)\n",
    "cv2.destroyAllWindows()"
   ]
  },
  {
   "cell_type": "markdown",
   "metadata": {},
   "source": [
    "Now lets say we want select only the area where the evil smily (second from the left bottom line), for that we'll need to identify the region rectangle of that smiley, for that we can use many utilities programs (even the one showd above can help)\n",
    "\n",
    "In our case:\n",
    "* the upper left  side coordinates are (150, 200)\n",
    "* the lower right side coordinates are (300, 350)  \n",
    "\n",
    "So defining this ROI goes like this:  \n",
    "\n",
    "img[y0:y1, x0:x1]"
   ]
  },
  {
   "cell_type": "code",
   "execution_count": 5,
   "metadata": {},
   "outputs": [],
   "source": [
    "bad_smiley = img[200:350, 150:300]"
   ]
  },
  {
   "cell_type": "markdown",
   "metadata": {},
   "source": [
    "![title](images/ROI_diagram.gif)\n",
    "\n",
    "Now we can assign a value to the entire ROI either an array with the exact dimentions or we can simply give all pixels a value"
   ]
  },
  {
   "cell_type": "code",
   "execution_count": 25,
   "metadata": {},
   "outputs": [],
   "source": [
    "import cv2\n",
    "import numpy as np\n",
    "img = cv2.imread('images/smiley.jpg')\n",
    "img[200:350, 150:300] = img[0,0]\n",
    "cv2.imshow('smiley', img)\n",
    "cv2.waitKey(0)\n",
    "cv2.destroyAllWindows()"
   ]
  },
  {
   "cell_type": "markdown",
   "metadata": {},
   "source": [
    "### outcome:\n",
    "\n",
    "![title](images/smiley_minus_roi.jpg)"
   ]
  },
  {
   "cell_type": "markdown",
   "metadata": {},
   "source": [
    "### Image Addition (arithmetic)\n",
    "\n",
    "You can add two images by OpenCV function, cv2.add() or simply by numpy operation, res = img1 + img2. <B>Both images should be of same depth and type, or second image can just be a scalar value.</B>\n",
    "\n",
    "consider the folowing images:"
   ]
  },
  {
   "cell_type": "markdown",
   "metadata": {},
   "source": [
    "![title](images/samurai.jpeg) +  ![title](images/china.jpeg)"
   ]
  },
  {
   "cell_type": "code",
   "execution_count": 27,
   "metadata": {},
   "outputs": [],
   "source": [
    "import numpy as np\n",
    "import cv2\n",
    "\n",
    "im1 = cv2.imread('images/samurai.jpeg')\n",
    "im2 = cv2.imread('images/china.jpeg')\n",
    "im3 = im1 + im2\n",
    "cv2.imshow('im1',im1)\n",
    "cv2.imshow('im2',im2)\n",
    "cv2.imshow('im3',im3)\n",
    "cv2.waitKey(0)\n",
    "cv2.destroyAllWindows()"
   ]
  },
  {
   "cell_type": "markdown",
   "metadata": {},
   "source": [
    "#### Question: what happens when the sum of 2 pixels exceeds 255 ?"
   ]
  },
  {
   "cell_type": "code",
   "execution_count": 14,
   "metadata": {},
   "outputs": [
    {
     "data": {
      "text/plain": [
       "array([117, 187, 224], dtype=uint8)"
      ]
     },
     "execution_count": 14,
     "metadata": {},
     "output_type": "execute_result"
    }
   ],
   "source": [
    "im1[200][200]"
   ]
  },
  {
   "cell_type": "code",
   "execution_count": 15,
   "metadata": {},
   "outputs": [
    {
     "data": {
      "text/plain": [
       "array([  8,  92, 186], dtype=uint8)"
      ]
     },
     "execution_count": 15,
     "metadata": {},
     "output_type": "execute_result"
    }
   ],
   "source": [
    "im2[200][200]"
   ]
  },
  {
   "cell_type": "code",
   "execution_count": 16,
   "metadata": {},
   "outputs": [
    {
     "data": {
      "text/plain": [
       "array([125,  23, 154], dtype=uint8)"
      ]
     },
     "execution_count": 16,
     "metadata": {},
     "output_type": "execute_result"
    }
   ],
   "source": [
    "im3[200][200]"
   ]
  },
  {
   "cell_type": "markdown",
   "metadata": {},
   "source": [
    "### Outcome of Samurai + chaina: \n",
    "\n",
    "![title](images/samurai_plus_china.jpeg)"
   ]
  },
  {
   "cell_type": "markdown",
   "metadata": {},
   "source": [
    "### Image Blending (the cv2 way) \n",
    "This is also image addition, but different weights are given to images so that it gives a feeling of blending or transparency. Images are added as per the equation below:\n",
    "\n",
    "g(x) = (1 - alpha)* f0(x) + alpha * f1(x)\n",
    "\n",
    "By varying alpha from 0 -> 1, you can perform a cool transition between one image to another.\n",
    "\n",
    "Here I took the two images shown above and blended them together. First image is given a weight of 0.7 and second image is given 0.3. cv2.addWeighted() applies following equation on the image.\n",
    "\n",
    "dst = alpha*img1 + beta*img2 + gamma\n",
    "\n",
    "Here gamma is taken as zero."
   ]
  },
  {
   "cell_type": "code",
   "execution_count": 28,
   "metadata": {},
   "outputs": [],
   "source": [
    "import numpy as np\n",
    "import cv2\n",
    "\n",
    "im1 = cv2.imread('images/samurai.jpeg')\n",
    "im2 = cv2.imread('images/china.jpeg')\n",
    "dst = cv2.addWeighted(im1, 0.7, im2, 0.3, 0)\n",
    "cv2.imshow('im1',im1)\n",
    "cv2.imshow('im2',im2)\n",
    "cv2.imshow('dst',dst)\n",
    "cv2.waitKey(0)\n",
    "cv2.destroyAllWindows()"
   ]
  },
  {
   "cell_type": "markdown",
   "metadata": {},
   "source": [
    "### outcome:\n",
    "\n",
    "![title](images/samurai_china_addWeighted.jpeg)"
   ]
  },
  {
   "cell_type": "markdown",
   "metadata": {},
   "source": [
    "### Bitwise Operations (or manipulating a none rectangular area in an image)\n",
    "\n",
    "This includes bitwise AND, OR, NOT and XOR operations. They will be highly useful while extracting any part of the image (as we will see in coming chapters), defining and working with non-rectangular ROI etc. Below we will see an example on how to change a particular region of an image.\n",
    "\n",
    "I want to put OpenCV logo above an image. If I add two images, it will change color. If I blend it, I get an transparent effect. But I want it to be opaque. If it was a rectangular region, I could use ROI as we did in last chapter. But OpenCV logo is a not a rectangular shape. So you can do it with bitwise operations as below:"
   ]
  },
  {
   "cell_type": "code",
   "execution_count": 22,
   "metadata": {},
   "outputs": [],
   "source": [
    "import cv2\n",
    "import numpy as np\n",
    "\n",
    "#loading 2 images\n",
    "img1 = cv2.imread('images/samurai.jpeg')\n",
    "cv2.imshow('1 orig image', img1)\n",
    "\n",
    "img2 = cv2.imread('images/opencv-logo.png')\n",
    "cv2.imshow('2 orig logo', img2)\n",
    "\n",
    "#find the logo image dimentions\n",
    "rows, cols, channels = img2.shape\n",
    "\n",
    "#defining region of interest at the size of the logo \n",
    "#on the upper left side of img1 \n",
    "roi = img1[0:rows, 0:cols ]\n",
    "\n",
    "#converting the logo to grayscale\n",
    "img2gray = cv2.cvtColor(img2,cv2.COLOR_BGR2GRAY)\n",
    "cv2.imshow('3 logo converted to grayscale', img2gray)\n",
    "\n",
    "#creating a mask with the threshold function\n",
    "ret, mask = cv2.threshold(img2gray, 10, 255, cv2.THRESH_BINARY)\n",
    "cv2.imshow('4 mask', mask)\n",
    "\n",
    "#now creating the inverted mask\n",
    "mask_inv = cv2.bitwise_not(mask)\n",
    "cv2.imshow('5 mask inverted', mask_inv)\n",
    "\n",
    "\n",
    "#now black-out the area of logo in ROI\n",
    "roi_bg = cv2.bitwise_and(roi, roi, mask=mask_inv)\n",
    "cv2.imshow('6 roi bckground', roi_bg)\n",
    "\n",
    "\n",
    "#take only region of logo from logo image.\n",
    "roi_fg = cv2.bitwise_and(img2, img2, mask=mask)\n",
    "cv2.imshow('7 roi foregroung ', roi_fg)\n",
    "\n",
    "#summing up roi background with roi forgroung\n",
    "dst = cv2.add(roi_bg, roi_fg)\n",
    "cv2.imshow('8 adding the roi gg to fg', dst)\n",
    "\n",
    "#replacing the corresponding area in the original image \n",
    "img1[0:rows, 0:cols ] = dst\n",
    "cv2.imshow('9 result', img1)\n",
    "\n",
    "cv2.waitKey(0)\n",
    "cv2.destroyAllWindows()"
   ]
  },
  {
   "cell_type": "markdown",
   "metadata": {},
   "source": [
    "### Exercise\n",
    "Create a slide show of images in a folder with smooth transition between images using cv2.addWeighted function"
   ]
  }
 ],
 "metadata": {
  "kernelspec": {
   "display_name": "Python 3",
   "language": "python",
   "name": "python3"
  },
  "language_info": {
   "codemirror_mode": {
    "name": "ipython",
    "version": 3
   },
   "file_extension": ".py",
   "mimetype": "text/x-python",
   "name": "python",
   "nbconvert_exporter": "python",
   "pygments_lexer": "ipython3",
   "version": "3.6.6"
  }
 },
 "nbformat": 4,
 "nbformat_minor": 2
}
